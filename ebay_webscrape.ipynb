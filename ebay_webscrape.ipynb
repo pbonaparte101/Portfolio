{
 "cells": [
  {
   "cell_type": "code",
   "execution_count": null,
   "metadata": {},
   "outputs": [],
   "source": []
  },
  {
   "cell_type": "code",
   "execution_count": 1,
   "metadata": {},
   "outputs": [],
   "source": [
    "#Import necessary Libraries\n",
    "\n",
    "import pandas as pd\n",
    "from urllib.request import Request,urlopen\n",
    "import requests\n",
    "from bs4 import BeautifulSoup\n",
    "import html5lib"
   ]
  },
  {
   "cell_type": "code",
   "execution_count": 4,
   "metadata": {},
   "outputs": [],
   "source": [
    "#Make a list of sources from which data should be collected\n",
    "link_1 = \"https://www.ebay.com/itm/225228594803?_trkparms=amclksrc%3DITM%26aid%3D1110006%26algo%3DHOMESPLICE.SIM%26ao%3D1%26asc%3D242764%26meid%3D4fc89099e5ab4e9fb7fe79fd9cdc2f63%26pid%3D101195%26rk%3D3%26rkt%3D12%26sd%3D304674705541%26itm%3D225228594803%26pmt%3D1%26noa%3D0%26pg%3D2047675%26algv%3DSimplAMLv11WebTrimmedV3MskuAspectsV202110NoVariantSeedKnnRecallV1DwebOnly%26brand%3DEVGA&_trksid=p2047675.c101195.m1851&amdata=cksum%3A2252285948034fc89099e5ab4e9fb7fe79fd9cdc2f63%7Cenc%3AAQAHAAABMPnNgQzrwy4hcSW%252F1r0wjcHUoW2vznLktC1ywnd%252BfgwtVkfbqrg79mnCGmVqoaequeJtVfKXg136SWaKVngTop3JnbmUEUdhfiQsEDWfHdb49c%252BIDMQ5OwWAMnO6L1EovknJ5yLNBKUBc7l8acTL6VjWxwCZZoSrzzjlUSfvixrc7OBCcyeS8kmM0uLSNM0ZFwsIy2aBuhE9WnaxmMZN1tMyzOW5Utta2cCuDIEIx27CBHfItyjOIgCnsgaq1LvRI8u1gWlOZsZzLmUb3aKz8bDMkRKURs7EY9Yf6lK0kQQJevZkfc8hlJV6heOPgqhAgKzXoKxUDXvctSQGaWrDj8raC%252BWuNLwrvDQSOpqCxbhfdw5jKv0H%252FQnsB%252BE5sb2dutB9DgSWIviqu7x2bGk94Ck%253D%7Campid%3APLX_CLK%7Cclp%3A2047675&epid=13047690654\"\n",
    "link_2 = \"https://www.ebay.com/itm/204125658720?_trkparms=amclksrc%3DITM%26aid%3D1110018%26algo%3DHOMESPLICE.COMPLISTINGS%26ao%3D1%26asc%3D20210609144404%26meid%3D3d5e1e37b13d4f169c27e1f4b639b4e8%26pid%3D101196%26rk%3D2%26rkt%3D12%26sd%3D225228594803%26itm%3D204125658720%26pmt%3D1%26noa%3D0%26pg%3D2047675%26algv%3DPopularItemsWithSimpleRanker&_trksid=p2047675.c101196.m2219&amdata=cksum%3A2041256587203d5e1e37b13d4f169c27e1f4b639b4e8%7Cenc%3AAQAHAAAA8A7MsZABwLuaVPSMs%252FTholPj6Yl%252BKviZkjBwf4Ot%252FuQX6Puo4kIF1dZetA9O7xTnmibDZAlcc6ASpWc5VO0F2GVnkWzUvJYwJsc2QGdwm5tP%252BYBf27ZFBdV4L8cwVhuJt6zji18CfKc9HA5yCDAreNpujd%252FeA0i8orjvT3lsx6Wt9YpMVok1BFgChduKQyXGod8pNm0KUrl%252F69yFQOTAD2EYj%252B72Q7nhmUFiyb4lQDHclaC4Qp0Q2V4VqWs4M%252BH92DGeTtUOJs14H2oaQOQkzvAV04ISunyXqG4%252BFKnAo%252Bw%252FOrb3SKHt1epQyyW1wLVJTw%253D%253D%7Campid%3APL_CLK%7Cclp%3A2047675\"\n",
    "link = [link_1, link_2]"
   ]
  },
  {
   "cell_type": "code",
   "execution_count": 5,
   "metadata": {},
   "outputs": [
    {
     "name": "stdout",
     "output_type": "stream",
     "text": [
      "485.0\n",
      "630.00\n"
     ]
    }
   ],
   "source": [
    "#Create a loop that goes through each item in the list and reports the price data\n",
    "for i in link:\n",
    "    req = Request(i, headers={'User-Agent' : 'Mozilla/5.0'})\n",
    "    webpage = urlopen(req).read()\n",
    "    soup = BeautifulSoup(webpage, 'html5lib')\n",
    "    with requests.Session() as c:\n",
    "        soup = BeautifulSoup(webpage, 'html5lib')\n",
    "        print(soup.find('span' , attrs={\"itemprop\" : \"price\"})['content'])\n"
   ]
  },
  {
   "cell_type": "code",
   "execution_count": null,
   "metadata": {},
   "outputs": [],
   "source": []
  }
 ],
 "metadata": {
  "kernelspec": {
   "display_name": "Python 3.10.8 64-bit (microsoft store)",
   "language": "python",
   "name": "python3"
  },
  "language_info": {
   "codemirror_mode": {
    "name": "ipython",
    "version": 3
   },
   "file_extension": ".py",
   "mimetype": "text/x-python",
   "name": "python",
   "nbconvert_exporter": "python",
   "pygments_lexer": "ipython3",
   "version": "3.10.8"
  },
  "orig_nbformat": 4,
  "vscode": {
   "interpreter": {
    "hash": "5837514004760887f282eee74072317861db9444833dc56ad59a61e4b7ecdf76"
   }
  }
 },
 "nbformat": 4,
 "nbformat_minor": 2
}
