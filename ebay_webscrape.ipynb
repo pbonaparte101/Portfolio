{
 "cells": [
  {
   "cell_type": "code",
   "execution_count": 24,
   "metadata": {},
   "outputs": [],
   "source": [
    "#Import necessary Libraries\n",
    "from bs4 import BeautifulSoup\n",
    "import pandas as pd\n",
    "from urllib.request import Request,urlopen\n",
    "import requests\n",
    "import html5lib"
   ]
  },
  {
   "cell_type": "code",
   "execution_count": 25,
   "metadata": {},
   "outputs": [],
   "source": [
    "#Make a list of sources from which data should be collected\n",
    "link_1 = \"https://www.ebay.com/itm/125574902318?hash=item1d3cd8f22e:g:BQUAAOSw2~FjVBMb&amdata=enc%3AAQAHAAAAoEpteE91ceIFSwuEK7xHtvRIdILH04hu1j1MTFmqdlNV9vUhMN2GP7DQavPVFqgyNNruCaMcGxde9FLIF476lSpBwrvrYZwrnL91%2BQPg9GFfgWFIRccfbukxQhkaLB7y4zaKhz4Gd9uwrC1Q%2Fh4aqWwMr9snoPl7qe6KOsXhzDiWclh%2BU7iKdeynJhMrsD6bi1zE1Re3Jjbt3K5P9XN6rAM%3D%7Ctkp%3ABk9SR-Kah5yAYQ\"\n",
    "link_2 = \"https://www.ebay.com/itm/285011414223?epid=13048643312&hash=item425c010ccf:g:DwcAAOSw389jVFwI&amdata=enc%3AAQAHAAAAkA9SAyACAJ2ESQkBIOB1V9acG9ouBUwe0Q9YCFOrUtf3NYrnDlcXDbnWknJvR42fR5Tdyrem9n5JZuYV4C8T58U8gOyxFr%2BYE2wVSJU%2FdxWnJD8f%2FH8j2w44ZODWpefAEXIndvGH6YVvNt1dxoprfnlCdo%2FnaWSwjoORrr4f%2B5xlcNlFxX99nMk34PDzCipa7w%3D%3D%7Ctkp%3ABk9SR-Kah5yAYQ\"\n",
    "link = [link_1, link_2]"
   ]
  },
  {
   "cell_type": "code",
   "execution_count": 1,
   "metadata": {},
   "outputs": [
    {
     "ename": "NameError",
     "evalue": "name 'link' is not defined",
     "output_type": "error",
     "traceback": [
      "\u001b[1;31m---------------------------------------------------------------------------\u001b[0m",
      "\u001b[1;31mNameError\u001b[0m                                 Traceback (most recent call last)",
      "Cell \u001b[1;32mIn [1], line 2\u001b[0m\n\u001b[0;32m      1\u001b[0m \u001b[39m#Create a loop that goes through each item in the list and reports the price data\u001b[39;00m\n\u001b[1;32m----> 2\u001b[0m \u001b[39mfor\u001b[39;00m i \u001b[39min\u001b[39;00m link:\n\u001b[0;32m      3\u001b[0m     req \u001b[39m=\u001b[39m Request(i, headers\u001b[39m=\u001b[39m{\u001b[39m'\u001b[39m\u001b[39mUser-Agent\u001b[39m\u001b[39m'\u001b[39m : \u001b[39m'\u001b[39m\u001b[39mMozilla/5.0\u001b[39m\u001b[39m'\u001b[39m})\n\u001b[0;32m      4\u001b[0m     webpage \u001b[39m=\u001b[39m urlopen(req)\u001b[39m.\u001b[39mread()\n",
      "\u001b[1;31mNameError\u001b[0m: name 'link' is not defined"
     ]
    }
   ],
   "source": [
    "#Create a loop that goes through each item in the list and reports the price data\n",
    "for i in link:\n",
    "    req = Request(i, headers={'User-Agent' : 'Mozilla/5.0'})\n",
    "    webpage = urlopen(req).read()\n",
    "    soup = BeautifulSoup(webpage, 'html5lib')\n",
    "    with requests.Session() as c:\n",
    "        soup = BeautifulSoup(webpage, 'html5lib')\n",
    "        print(soup.find('span' , attrs={\"itemprop\" : \"price\"})['content'])\n"
   ]
  },
  {
   "cell_type": "code",
   "execution_count": null,
   "metadata": {},
   "outputs": [],
   "source": []
  }
 ],
 "metadata": {
  "kernelspec": {
   "display_name": "Python 3.10.8 64-bit (microsoft store)",
   "language": "python",
   "name": "python3"
  },
  "language_info": {
   "codemirror_mode": {
    "name": "ipython",
    "version": 3
   },
   "file_extension": ".py",
   "mimetype": "text/x-python",
   "name": "python",
   "nbconvert_exporter": "python",
   "pygments_lexer": "ipython3",
   "version": "3.10.8"
  },
  "orig_nbformat": 4,
  "vscode": {
   "interpreter": {
    "hash": "5837514004760887f282eee74072317861db9444833dc56ad59a61e4b7ecdf76"
   }
  }
 },
 "nbformat": 4,
 "nbformat_minor": 2
}
